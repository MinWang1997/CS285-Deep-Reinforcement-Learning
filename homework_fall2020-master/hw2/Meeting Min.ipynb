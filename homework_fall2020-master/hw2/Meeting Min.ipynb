{
 "cells": [
  {
   "cell_type": "code",
   "execution_count": 4,
   "metadata": {},
   "outputs": [],
   "source": [
    "import torch\n",
    "import torch.nn as nn\n",
    "import os"
   ]
  },
  {
   "cell_type": "markdown",
   "metadata": {},
   "source": [
    "# Save / load pytorch models\n",
    "\n",
    "More info: https://pytorch.org/tutorials/beginner/saving_loading_models.html"
   ]
  },
  {
   "cell_type": "code",
   "execution_count": 10,
   "metadata": {},
   "outputs": [
    {
     "name": "stdout",
     "output_type": "stream",
     "text": [
      "saved\n",
      "loaded\n"
     ]
    }
   ],
   "source": [
    "class YourModel(nn.Module):\n",
    "    def __init__(self):\n",
    "        super().__init__()\n",
    "        self.lin1 = nn.Linear(10,20)\n",
    "        # ...Rest of your model\n",
    "        \n",
    "model = YourModel()\n",
    "        \n",
    "# save model after training\n",
    "torch.save(model.state_dict(), 'yourmodel.pt') # specify path for model file here\n",
    "print('saved')\n",
    "\n",
    "# load saved model\n",
    "model.load_state_dict(torch.load('yourmodel.pt')) # specify path for model file here\n",
    "print('loaded')"
   ]
  },
  {
   "cell_type": "markdown",
   "metadata": {},
   "source": [
    "# Collect outcomes of multiple different random seeds"
   ]
  },
  {
   "cell_type": "code",
   "execution_count": 7,
   "metadata": {},
   "outputs": [],
   "source": [
    "import os\n",
    "from collections import defaultdict\n",
    "\n",
    "def average_results(prefix):\n",
    "    results = defaultdict(list) # add here e.g. keys = episodes, value for key = list of rewards for episode per random seed\n",
    "    for filename in os.listdir(\"data\"): # list all files + directories in current folder (change \".\" to the path you need)\n",
    "        if filename.startswith(prefix): # filter out files that start with specified prefix only\n",
    "            print(filename) # found one\n",
    "            # read your file \n",
    "            f = ...\n",
    "            \n",
    "            # loop over reward per episode in file\n",
    "            for episode in ...\n",
    "                results[episode].append(reward)\n",
    "                \n",
    "    # all files with same prefix are read in - now calculate mean and variance per episode\n",
    "    means = defaultdict(float)\n",
    "    variances = defaultdict(float)\n",
    "    for episode in results:\n",
    "        # episode now contains the list of rewards for this episode\n",
    "        mean = sum(episode)/len(episode)\n",
    "        variance = ...\n",
    "        \n",
    "        means[episode] = mean\n",
    "        variances[episode] = variance\n",
    "        \n",
    "    # save means and variances in a file that can then be plotted later\n",
    "        \n",
    "\n",
    "            "
   ]
  },
  {
   "cell_type": "code",
   "execution_count": 8,
   "metadata": {},
   "outputs": [
    {
     "name": "stdout",
     "output_type": "stream",
     "text": [
      "rlpolicy_ImsLecturers_1.0.pt\n"
     ]
    }
   ],
   "source": [
    "# example usage\n",
    "average_results(prefix=\"experiment2_rl_0.1_bs_128_\")"
   ]
  },
  {
   "cell_type": "markdown",
   "metadata": {},
   "source": [
    "# Grid search (Testing all possible parameter combinations)"
   ]
  },
  {
   "cell_type": "code",
   "execution_count": null,
   "metadata": {},
   "outputs": [],
   "source": [
    "for lr in [0.1, 0.2, 0.3]:\n",
    "    for bs in [64, 128, 256, ..., 1024]:\n",
    "        run_your_experiment(lr, bs)\n",
    "        # ..."
   ]
  }
 ],
 "metadata": {
  "kernelspec": {
   "display_name": "Python 3",
   "language": "python",
   "name": "python3"
  },
  "language_info": {
   "codemirror_mode": {
    "name": "ipython",
    "version": 3
   },
   "file_extension": ".py",
   "mimetype": "text/x-python",
   "name": "python",
   "nbconvert_exporter": "python",
   "pygments_lexer": "ipython3",
   "version": "3.8.5"
  }
 },
 "nbformat": 4,
 "nbformat_minor": 4
}

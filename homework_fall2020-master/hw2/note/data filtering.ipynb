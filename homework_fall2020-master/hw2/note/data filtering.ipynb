{
 "cells": [
  {
   "cell_type": "code",
   "execution_count": 1,
   "metadata": {},
   "outputs": [],
   "source": [
    "from collections import defaultdict\n",
    "\n",
    "# Experiment | Avg_EvalReturn | iteration \n",
    "# exp1_lr_0.01 | 800          |  70\n",
    "# exp1_lr_0.01 | 750          |  71\n",
    "# exp1_lr_0.01 | 800          |  72\n",
    "\n",
    "\n",
    "# counting how many times experiment reward is over threshold\n",
    "threshold = 900\n",
    "counter = defaultdict(int)\n",
    "\n",
    "\n",
    "for row in data_q2:\n",
    "    if row['Avg_EvalReturn'] > threshold:\n",
    "        counter[row[\"Experiment\"]] += 1\n",
    "    \n",
    "        \n",
    "# get first iteration of maximum reward reached by experiment\n",
    "max_reward_dic = {}\n",
    "for row in data_q2:\n",
    "    exp = row['Experiment']\n",
    "    if exp not in max_reward_dic:\n",
    "        max_reward_dic[exp] = (0, 0)\n",
    "    current_reward = row['Avg_EvalReturn']\n",
    "    current_iter = row['iteration']\n",
    "    if max_reward_dic[exp][0] < current_reward:\n",
    "        max_reward_dic[exp] = (current_reward, current_iter)"
   ]
  },
  {
   "cell_type": "code",
   "execution_count": null,
   "metadata": {},
   "outputs": [],
   "source": []
  }
 ],
 "metadata": {
  "kernelspec": {
   "display_name": "Python 3.8.1 64-bit ('adviser_demonstration': conda)",
   "language": "python",
   "name": "python38164bitadviserdemonstrationcondac88a7d10482147c9a6312e4b872b1265"
  },
  "language_info": {
   "codemirror_mode": {
    "name": "ipython",
    "version": 3
   },
   "file_extension": ".py",
   "mimetype": "text/x-python",
   "name": "python",
   "nbconvert_exporter": "python",
   "pygments_lexer": "ipython3",
   "version": "3.8.1"
  }
 },
 "nbformat": 4,
 "nbformat_minor": 2
}
